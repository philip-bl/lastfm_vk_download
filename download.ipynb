{
 "cells": [
  {
   "cell_type": "code",
   "execution_count": null,
   "metadata": {
    "collapsed": true,
    "deletable": true,
    "editable": true
   },
   "outputs": [],
   "source": [
    "import requests\n",
    "from pprint import pprint"
   ]
  },
  {
   "cell_type": "code",
   "execution_count": null,
   "metadata": {
    "collapsed": false,
    "deletable": true,
    "editable": true
   },
   "outputs": [],
   "source": [
    "response = requests.get(\n",
    "    \"https://ws.audioscrobbler.com/2.0/\",\n",
    "    params={\n",
    "        \"method\": \"user.gettoptracks\",\n",
    "        \"user\": \"cocacooler\",\n",
    "        \"api_key\": \"ae26d4892e373c6fc188acf7e3cb36c3\",\n",
    "        \"page\": \"1\",\n",
    "        \"format\": \"json\"\n",
    "    }\n",
    ")"
   ]
  },
  {
   "cell_type": "code",
   "execution_count": null,
   "metadata": {
    "collapsed": true,
    "deletable": true,
    "editable": true
   },
   "outputs": [],
   "source": [
    "API_KEY=\"ae26d4892e373c6fc188acf7e3cb36c3\"\n",
    "USERNAME=\"cocacooler\""
   ]
  },
  {
   "cell_type": "code",
   "execution_count": null,
   "metadata": {
    "collapsed": true,
    "deletable": true,
    "editable": true
   },
   "outputs": [],
   "source": [
    "def request_page(api_key, username, page):\n",
    "    response = requests.get(\n",
    "        \"https://ws.audioscrobbler.com/2.0/\",\n",
    "        params={\n",
    "            \"method\": \"user.gettoptracks\",\n",
    "            \"user\": username,\n",
    "            \"api_key\": api_key,\n",
    "            \"page\": str(page),\n",
    "            \"format\": \"json\"\n",
    "        }\n",
    "    )\n",
    "    assert response.status_code == 200\n",
    "    return response"
   ]
  },
  {
   "cell_type": "code",
   "execution_count": null,
   "metadata": {
    "collapsed": true,
    "deletable": true,
    "editable": true
   },
   "outputs": [],
   "source": [
    "def extract_tracks(page_json):\n",
    "    return [\n",
    "        {\n",
    "            \"artist\": track[\"artist\"][\"name\"],\n",
    "            \"title\": track[\"name\"],\n",
    "            \"lastfm_url\": track[\"url\"],\n",
    "            \"musicbrainz_id\": track[\"mbid\"]\n",
    "            \n",
    "        }\n",
    "        for track in page_json[\"toptracks\"][\"track\"]]"
   ]
  },
  {
   "cell_type": "code",
   "execution_count": null,
   "metadata": {
    "collapsed": false,
    "deletable": true,
    "editable": true,
    "scrolled": true
   },
   "outputs": [],
   "source": [
    "def get_tracks(api_key=API_KEY, username=USERNAME, num_tracks=100):\n",
    "    tracks = []\n",
    "    page1_json = request_page(api_key, username, 1).json()\n",
    "    \n",
    "    total_tracks = int(page1_json[\"toptracks\"][\"@attr\"][\"total\"])\n",
    "    assert total_tracks >= num_tracks\n",
    "    \n",
    "    tracks_per_page = int(page1_json[\"toptracks\"][\"@attr\"][\"perPage\"])\n",
    "    \n",
    "    # need_pages * tracks_per_page >= num_tracks\n",
    "    need_pages = num_tracks // tracks_per_page + 1\n",
    "    \n",
    "    tracks.extend(extract_tracks(page1_json))\n",
    "    \n",
    "    for page in range(2, need_pages + 1):\n",
    "        page_json = request_page(api_key, username, page).json()\n",
    "        tracks.extend(extract_tracks(page_json))\n",
    "        \n",
    "    return tracks"
   ]
  },
  {
   "cell_type": "code",
   "execution_count": null,
   "metadata": {
    "collapsed": false,
    "deletable": true,
    "editable": true
   },
   "outputs": [],
   "source": [
    "get_tracks()"
   ]
  }
 ],
 "metadata": {
  "git": {
   "suppress_outputs": "true"
  },
  "kernelspec": {
   "display_name": "Python 3",
   "language": "python",
   "name": "python3"
  },
  "language_info": {
   "codemirror_mode": {
    "name": "ipython",
    "version": 3
   },
   "file_extension": ".py",
   "mimetype": "text/x-python",
   "name": "python",
   "nbconvert_exporter": "python",
   "pygments_lexer": "ipython3",
   "version": "3.6.0"
  }
 },
 "nbformat": 4,
 "nbformat_minor": 2
}
